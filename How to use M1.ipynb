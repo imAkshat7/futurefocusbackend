{
 "cells": [
  {
   "cell_type": "code",
   "execution_count": 50,
   "id": "68152362-dc63-4060-8a96-ca3e56e62370",
   "metadata": {},
   "outputs": [],
   "source": [
    "from sklearn.ensemble import RandomForestClassifier\n",
    "from sklearn.feature_extraction.text import TfidfVectorizer"
   ]
  },
  {
   "cell_type": "code",
   "execution_count": 51,
   "id": "db160397-3a39-4c0c-a883-0c1a4749a635",
   "metadata": {},
   "outputs": [],
   "source": [
    "import joblib"
   ]
  },
  {
   "cell_type": "code",
   "execution_count": 52,
   "id": "270708a8-d3fa-4a9b-93c8-4d4d33be53cf",
   "metadata": {},
   "outputs": [],
   "source": [
    "clf=joblib.load(\"M1.pkl\")\n",
    "tfidf = joblib.load(r\"tfidf1.pkl\")"
   ]
  },
  {
   "cell_type": "code",
   "execution_count": 53,
   "id": "5a414046-b326-4fa3-8ff1-ebc04b594727",
   "metadata": {},
   "outputs": [],
   "source": [
    "possible_skills=['Hyper-V', 'care', 'Creative', 'AWS', 'etc.', 'equipment', 'React', 'SEM', 'Contact', 'Stata', 'DKIM', 'Accessible', 'Civil', 'BI', 'HubSpot', 'Selenium', 'TCP/IP', 'MicroStation', 'Informatica', 'Azure', 'InDesign', 'Information', 'CCNA', 'Query', 'Structured', 'Wireshark', 'Terraform', '9001', 'MailChimp', 'SolidWorks', 'Accepted', 'scikit-learn', 'Native', 'Oracle', 'S&OP', 'Applications', 'Transform', 'Tableau', 'Pardot', 'and', 'CI/CT', 'Frog', 'Kubernetes', 'design', 'Python', 'critical', 'video', 'NoSQL', 'dementia', 'fixtures', 'automated', 'Docker', 'Geographic', 'Suite', 'Language', 'Systems', 'Appium', 'Figma', 'SQL', 'Analytics', 'editing', 'production', 'Edition', 'Salesforce', 'Windows', 'JavaScript', 'Spark', 'HTML', 'Adobe', 'SIEM', 'Ahrefs', 'MySQL', 'VMware', 'Servlets', 'Principles', 'IEPs', 'Ruby', 'writing', 'Swift', 'Mailchimp', 'Accounting', 'Relativity', 'HR', 'Kotlin', 'PyTorch', 'SEMrush', 'Sketch', 'furniture', 'Constant', 'Engine', 'XD', 'SAS', 'Power', 'AutoCAD', 'Office', 'CSS', 'CBT', 'if', 'Angular', 'CI/CD', 'Talend', 'Flutter', 'OAuth', 'applicable', 'Load', 'SAP', 'Rich', 'UI', 'Bash', 'Photoshop', 'Instagram', 'pediatric', 'ISO', 'macOS', 'Express', 'Spring', 'LexisNexis', 'Revit', 'CAD', 'WCAG', 'Facebook', 'Node.js', 'QuickBooks', 'Extract', 'Generally', 'Twitter', 'oncology', 'Screaming', 'Server', 'cardiology', 'ChemDraw', 'Radio', 'graphic', 'Ansible', 'Internet', 'MongoDB', 'NVivo', 'Java', 'Enterprise', 'Illustrator', 'CMS', 'Marketo', 'Google', '3D', 'Frequency', 'Hadoop', 'R', 'Search', 'GCP', 'arthritis', 'Django', 'SPF', 'JSP', 'SPSS', 'IDS/IPS', 'manual', 'Cassandra', 'JWT', 'Freshdesk', 'UX', 'Jira', 'M&A', 'Shopify', 'MS', 'SketchUp', 'Excel', 'Access', 'JMeter', 'TensorFlow', 'Microsoft', 'Zendesk', 'Insights', 'or', 'EHR', 'Git', 'SAP2000', 'SPC', 'Optimization']"
   ]
  },
  {
   "cell_type": "code",
   "execution_count": 54,
   "id": "38305302-e5b8-4dc5-be38-85e10034ac92",
   "metadata": {},
   "outputs": [],
   "source": [
    "possible_skills=set(possible_skills)"
   ]
  },
  {
   "cell_type": "code",
   "execution_count": 55,
   "id": "8e6966c1-783d-4bc3-8458-41bafabc28f4",
   "metadata": {},
   "outputs": [
    {
     "data": {
      "text/plain": [
       "{'3D',\n",
       " '9001',\n",
       " 'AWS',\n",
       " 'Accepted',\n",
       " 'Access',\n",
       " 'Accessible',\n",
       " 'Accounting',\n",
       " 'Adobe',\n",
       " 'Ahrefs',\n",
       " 'Analytics',\n",
       " 'Angular',\n",
       " 'Ansible',\n",
       " 'Appium',\n",
       " 'Applications',\n",
       " 'AutoCAD',\n",
       " 'Azure',\n",
       " 'BI',\n",
       " 'Bash',\n",
       " 'CAD',\n",
       " 'CBT',\n",
       " 'CCNA',\n",
       " 'CI/CD',\n",
       " 'CI/CT',\n",
       " 'CMS',\n",
       " 'CSS',\n",
       " 'Cassandra',\n",
       " 'ChemDraw',\n",
       " 'Civil',\n",
       " 'Constant',\n",
       " 'Contact',\n",
       " 'Creative',\n",
       " 'DKIM',\n",
       " 'Django',\n",
       " 'Docker',\n",
       " 'EHR',\n",
       " 'Edition',\n",
       " 'Engine',\n",
       " 'Enterprise',\n",
       " 'Excel',\n",
       " 'Express',\n",
       " 'Extract',\n",
       " 'Facebook',\n",
       " 'Figma',\n",
       " 'Flutter',\n",
       " 'Frequency',\n",
       " 'Freshdesk',\n",
       " 'Frog',\n",
       " 'GCP',\n",
       " 'Generally',\n",
       " 'Geographic',\n",
       " 'Git',\n",
       " 'Google',\n",
       " 'HR',\n",
       " 'HTML',\n",
       " 'Hadoop',\n",
       " 'HubSpot',\n",
       " 'Hyper-V',\n",
       " 'IDS/IPS',\n",
       " 'IEPs',\n",
       " 'ISO',\n",
       " 'Illustrator',\n",
       " 'InDesign',\n",
       " 'Informatica',\n",
       " 'Information',\n",
       " 'Insights',\n",
       " 'Instagram',\n",
       " 'Internet',\n",
       " 'JMeter',\n",
       " 'JSP',\n",
       " 'JWT',\n",
       " 'Java',\n",
       " 'JavaScript',\n",
       " 'Jira',\n",
       " 'Kotlin',\n",
       " 'Kubernetes',\n",
       " 'Language',\n",
       " 'LexisNexis',\n",
       " 'Load',\n",
       " 'M&A',\n",
       " 'MS',\n",
       " 'MailChimp',\n",
       " 'Mailchimp',\n",
       " 'Marketo',\n",
       " 'MicroStation',\n",
       " 'Microsoft',\n",
       " 'MongoDB',\n",
       " 'MySQL',\n",
       " 'NVivo',\n",
       " 'Native',\n",
       " 'NoSQL',\n",
       " 'Node.js',\n",
       " 'OAuth',\n",
       " 'Office',\n",
       " 'Optimization',\n",
       " 'Oracle',\n",
       " 'Pardot',\n",
       " 'Photoshop',\n",
       " 'Power',\n",
       " 'Principles',\n",
       " 'PyTorch',\n",
       " 'Python',\n",
       " 'Query',\n",
       " 'QuickBooks',\n",
       " 'R',\n",
       " 'Radio',\n",
       " 'React',\n",
       " 'Relativity',\n",
       " 'Revit',\n",
       " 'Rich',\n",
       " 'Ruby',\n",
       " 'S&OP',\n",
       " 'SAP',\n",
       " 'SAP2000',\n",
       " 'SAS',\n",
       " 'SEM',\n",
       " 'SEMrush',\n",
       " 'SIEM',\n",
       " 'SPC',\n",
       " 'SPF',\n",
       " 'SPSS',\n",
       " 'SQL',\n",
       " 'Salesforce',\n",
       " 'Screaming',\n",
       " 'Search',\n",
       " 'Selenium',\n",
       " 'Server',\n",
       " 'Servlets',\n",
       " 'Shopify',\n",
       " 'Sketch',\n",
       " 'SketchUp',\n",
       " 'SolidWorks',\n",
       " 'Spark',\n",
       " 'Spring',\n",
       " 'Stata',\n",
       " 'Structured',\n",
       " 'Suite',\n",
       " 'Swift',\n",
       " 'Systems',\n",
       " 'TCP/IP',\n",
       " 'Tableau',\n",
       " 'Talend',\n",
       " 'TensorFlow',\n",
       " 'Terraform',\n",
       " 'Transform',\n",
       " 'Twitter',\n",
       " 'UI',\n",
       " 'UX',\n",
       " 'VMware',\n",
       " 'WCAG',\n",
       " 'Windows',\n",
       " 'Wireshark',\n",
       " 'XD',\n",
       " 'Zendesk',\n",
       " 'and',\n",
       " 'applicable',\n",
       " 'arthritis',\n",
       " 'automated',\n",
       " 'cardiology',\n",
       " 'care',\n",
       " 'critical',\n",
       " 'dementia',\n",
       " 'design',\n",
       " 'editing',\n",
       " 'equipment',\n",
       " 'etc.',\n",
       " 'fixtures',\n",
       " 'furniture',\n",
       " 'graphic',\n",
       " 'if',\n",
       " 'macOS',\n",
       " 'manual',\n",
       " 'oncology',\n",
       " 'or',\n",
       " 'pediatric',\n",
       " 'production',\n",
       " 'scikit-learn',\n",
       " 'video',\n",
       " 'writing'}"
      ]
     },
     "execution_count": 55,
     "metadata": {},
     "output_type": "execute_result"
    }
   ],
   "source": [
    "possible_skills"
   ]
  },
  {
   "cell_type": "markdown",
   "id": "72f9e5dd",
   "metadata": {},
   "source": []
  },
  {
   "cell_type": "markdown",
   "id": "4d0e3e22",
   "metadata": {},
   "source": []
  },
  {
   "cell_type": "code",
   "execution_count": 56,
   "id": "e8b3d082-36bf-4f57-9268-5fb9d6766ff0",
   "metadata": {},
   "outputs": [],
   "source": [
    "def test(lst):\n",
    "    ans=\"\"\n",
    "    for i in lst:\n",
    "        if len(ans)==0:\n",
    "            ans+=i\n",
    "        else:\n",
    "            ans+=' '\n",
    "            ans+=i\n",
    "    new_tagline=[ans]\n",
    "    new_tagline_tfidf = tfidf.transform(new_tagline)\n",
    "    predicted_job_title = clf.predict(new_tagline_tfidf)\n",
    "    print(\"Predicted Job Title:\", predicted_job_title[0])"
   ]
  },
  {
   "cell_type": "code",
   "execution_count": 57,
   "id": "6532012e-07a2-4fca-bda6-ba96f9e6b96a",
   "metadata": {},
   "outputs": [],
   "source": [
    "lst=['AWS','BI','Python','SQL','R']"
   ]
  },
  {
   "cell_type": "code",
   "execution_count": 49,
   "id": "d63d283b-da73-4546-a3e4-63abc813661f",
   "metadata": {},
   "outputs": [
    {
     "name": "stdout",
     "output_type": "stream",
     "text": [
      "Predicted Job Title: Marketing Analyst\n"
     ]
    }
   ],
   "source": [
    "test(lst)"
   ]
  },
  {
   "cell_type": "code",
   "execution_count": null,
   "id": "e087f182-8257-414c-863f-fed0c8dc061e",
   "metadata": {},
   "outputs": [],
   "source": []
  }
 ],
 "metadata": {
  "kernelspec": {
   "display_name": "Python 3",
   "language": "python",
   "name": "python3"
  },
  "language_info": {
   "codemirror_mode": {
    "name": "ipython",
    "version": 3
   },
   "file_extension": ".py",
   "mimetype": "text/x-python",
   "name": "python",
   "nbconvert_exporter": "python",
   "pygments_lexer": "ipython3",
   "version": "3.12.4"
  }
 },
 "nbformat": 4,
 "nbformat_minor": 5
}
